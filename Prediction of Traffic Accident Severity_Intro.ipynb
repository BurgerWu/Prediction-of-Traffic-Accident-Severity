{
 "cells": [
  {
   "cell_type": "markdown",
   "metadata": {},
   "source": [
    "## Prediction of Traffic Accident Severity"
   ]
  },
  {
   "cell_type": "markdown",
   "metadata": {},
   "source": [
    "### Introduction\n",
    "\n",
    "#### Description\n",
    "\n",
    "Machine learning is now a universal tool in data science that can be applied to any kind of field. In this work, we would like to predict if a certain traffic accident event would cause injury or simple property damage. By applying classification machine learning algorithm with well-defined features and analysis, it is expected that we can have a fine model for the prediction.\n",
    "\n",
    "#### Background\n",
    "\n",
    " In order to have better performance of the prediction, we collect data related to each traffic accident in recent years.\n",
    " We will divide the dataset into numerical and catergorical subset for easier analysis. We hope that through analyzing traffic accident events carefully, we can know what factors affect the severity the most. Also, we can perhaps estimate if we are under risky traffic condition in the future.\n",
    " \n",
    "#### Dataset\n",
    "\n",
    "Our original dataset consists of 38 columns and 194673 rows. This dataset includes traffic accidents with several useful features recorded such as weather, road condition and so on. We will first divide the dataset into numerical and categorical subsets. Subsequently, we will do data cleaning, feature selection and data normalization before we actually apply machine learning algorithms.\n",
    "\n",
    "Some numerical feature are \n",
    "- Person involved\n",
    "- Pedestrian involved\n",
    "- Bicycles involved\n",
    "- Vehicles involved\n",
    "\n",
    "Some categorical features are\n",
    "- Address type\n",
    "- Collision type\n",
    "- Junction Type\n",
    "- Whether inattention\n",
    "- Whether drugs or alcohol\n",
    "- Weather pedestrian right of way not granted\n",
    "- Road Condition\n",
    "- Light Condition\n",
    "- Whether hitting parked car\n",
    "- Whether Speeding\n",
    "\n",
    "\n",
    "### Target Audience\n",
    "\n",
    "This analysis is aimed for everyone that cares about traffic safety as well as machine learning entry learner looking for realistic and practical applications.\n",
    "\n",
    "### Success Criteria\n",
    "\n",
    "We want to build a computation effective model with high accuracy. Because this report is intended for everybody. We do not want the algorithm to require high level hardware."
   ]
  },
  {
   "cell_type": "code",
   "execution_count": null,
   "metadata": {},
   "outputs": [],
   "source": []
  }
 ],
 "metadata": {
  "kernelspec": {
   "display_name": "Python 3",
   "language": "python",
   "name": "python3"
  },
  "language_info": {
   "codemirror_mode": {
    "name": "ipython",
    "version": 3
   },
   "file_extension": ".py",
   "mimetype": "text/x-python",
   "name": "python",
   "nbconvert_exporter": "python",
   "pygments_lexer": "ipython3",
   "version": "3.7.4"
  }
 },
 "nbformat": 4,
 "nbformat_minor": 2
}
